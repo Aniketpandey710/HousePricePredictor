{
 "cells": [
  {
   "cell_type": "code",
   "execution_count": 1,
   "id": "ce3f81ed-515d-458d-a795-07860668b167",
   "metadata": {},
   "outputs": [
    {
     "name": "stdout",
     "output_type": "stream",
     "text": [
      "Starting Python Flask Server For Home Price Prediction...\n",
      "loading saved artifacts...start\n"
     ]
    },
    {
     "ename": "ModuleNotFoundError",
     "evalue": "No module named 'sklearn.linear_model.base'",
     "output_type": "error",
     "traceback": [
      "\u001b[1;31m---------------------------------------------------------------------------\u001b[0m",
      "\u001b[1;31mModuleNotFoundError\u001b[0m                       Traceback (most recent call last)",
      "Cell \u001b[1;32mIn[1], line 31\u001b[0m\n\u001b[0;32m     29\u001b[0m \u001b[38;5;28;01mif\u001b[39;00m \u001b[38;5;18m__name__\u001b[39m \u001b[38;5;241m==\u001b[39m \u001b[38;5;124m\"\u001b[39m\u001b[38;5;124m__main__\u001b[39m\u001b[38;5;124m\"\u001b[39m:\n\u001b[0;32m     30\u001b[0m     \u001b[38;5;28mprint\u001b[39m(\u001b[38;5;124m\"\u001b[39m\u001b[38;5;124mStarting Python Flask Server For Home Price Prediction...\u001b[39m\u001b[38;5;124m\"\u001b[39m)\n\u001b[1;32m---> 31\u001b[0m     util\u001b[38;5;241m.\u001b[39mload_saved_artifacts()\n\u001b[0;32m     32\u001b[0m     app\u001b[38;5;241m.\u001b[39mrun()\n",
      "File \u001b[1;32m~\\Documents\\Predictor\\py\\DataScience\\BangloreHomePrices\\server\\util.py:37\u001b[0m, in \u001b[0;36mload_saved_artifacts\u001b[1;34m()\u001b[0m\n\u001b[0;32m     35\u001b[0m \u001b[38;5;28;01mif\u001b[39;00m __model \u001b[38;5;129;01mis\u001b[39;00m \u001b[38;5;28;01mNone\u001b[39;00m:\n\u001b[0;32m     36\u001b[0m     \u001b[38;5;28;01mwith\u001b[39;00m \u001b[38;5;28mopen\u001b[39m(\u001b[38;5;124m'\u001b[39m\u001b[38;5;124m./artifacts/banglore_home_prices_model.pickle\u001b[39m\u001b[38;5;124m'\u001b[39m, \u001b[38;5;124m'\u001b[39m\u001b[38;5;124mrb\u001b[39m\u001b[38;5;124m'\u001b[39m) \u001b[38;5;28;01mas\u001b[39;00m f:\n\u001b[1;32m---> 37\u001b[0m         __model \u001b[38;5;241m=\u001b[39m pickle\u001b[38;5;241m.\u001b[39mload(f)\n\u001b[0;32m     38\u001b[0m \u001b[38;5;28mprint\u001b[39m(\u001b[38;5;124m\"\u001b[39m\u001b[38;5;124mloading saved artifacts...done\u001b[39m\u001b[38;5;124m\"\u001b[39m)\n",
      "\u001b[1;31mModuleNotFoundError\u001b[0m: No module named 'sklearn.linear_model.base'"
     ]
    }
   ],
   "source": [
    "from flask import Flask, request, jsonify\n",
    "import util\n",
    "\n",
    "app = Flask(__name__)\n",
    "\n",
    "@app.route('/get_location_names', methods=['GET'])\n",
    "def get_location_names():\n",
    "    response = jsonify({\n",
    "        'locations': util.get_location_names()\n",
    "    })\n",
    "    response.headers.add('Access-Control-Allow-Origin', '*')\n",
    "\n",
    "    return response\n",
    "\n",
    "@app.route('/predict_home_price', methods=['GET', 'POST'])\n",
    "def predict_home_price():\n",
    "    total_sqft = float(request.form['total_sqft'])\n",
    "    location = request.form['location']\n",
    "    bhk = int(request.form['bhk'])\n",
    "    bath = int(request.form['bath'])\n",
    "\n",
    "    response = jsonify({\n",
    "        'estimated_price': util.get_estimated_price(location,total_sqft,bhk,bath)\n",
    "    })\n",
    "    response.headers.add('Access-Control-Allow-Origin', '*')\n",
    "\n",
    "    return response\n",
    "\n",
    "if __name__ == \"__main__\":\n",
    "    print(\"Starting Python Flask Server For Home Price Prediction...\")\n",
    "    util.load_saved_artifacts()\n",
    "    app.run()"
   ]
  },
  {
   "cell_type": "code",
   "execution_count": null,
   "id": "0cb7d0b7-4a79-4205-bcd9-75687abbbde5",
   "metadata": {},
   "outputs": [],
   "source": []
  },
  {
   "cell_type": "code",
   "execution_count": null,
   "id": "45cdf920-5393-4b58-b422-b3c5f9defdfa",
   "metadata": {},
   "outputs": [],
   "source": []
  },
  {
   "cell_type": "code",
   "execution_count": 3,
   "id": "1050f208-c430-4958-b800-4381bed40161",
   "metadata": {},
   "outputs": [],
   "source": [
    "a=[2,4,8,2]"
   ]
  },
  {
   "cell_type": "code",
   "execution_count": 5,
   "id": "3b41ec9f-3a74-4a68-8fa5-578fde0f21ac",
   "metadata": {},
   "outputs": [
    {
     "name": "stdout",
     "output_type": "stream",
     "text": [
      "[2, 2, 4, 8]\n"
     ]
    }
   ],
   "source": [
    "b=sorted(a)\n",
    "print(b)"
   ]
  },
  {
   "cell_type": "code",
   "execution_count": 7,
   "id": "c474553a-e1b7-4874-bbef-8c2fcf5cce09",
   "metadata": {},
   "outputs": [
    {
     "name": "stdout",
     "output_type": "stream",
     "text": [
      "8\n"
     ]
    }
   ],
   "source": [
    "c=b[-1]\n",
    "print(c)\n"
   ]
  },
  {
   "cell_type": "code",
   "execution_count": 15,
   "id": "dc518a1e-fd35-47b1-99b5-c12241639fbe",
   "metadata": {},
   "outputs": [
    {
     "name": "stdout",
     "output_type": "stream",
     "text": [
      "[2, 2, 4]\n"
     ]
    }
   ],
   "source": [
    "d=b[:-1]\n",
    "print(d)"
   ]
  },
  {
   "cell_type": "code",
   "execution_count": 23,
   "id": "ee5d5573-4d87-4aeb-ba9b-20beedd5c4fb",
   "metadata": {},
   "outputs": [],
   "source": [
    "c=9"
   ]
  },
  {
   "cell_type": "code",
   "execution_count": 43,
   "id": "559d1432-f4fe-4fc3-93de-eb5438771b87",
   "metadata": {},
   "outputs": [],
   "source": [
    "if c %2 ==0:\n",
    "    e=[c/2,c/2]\n",
    "else:\n",
    "    e=[(c+3)/2,(c-2)/2]"
   ]
  },
  {
   "cell_type": "code",
   "execution_count": 45,
   "id": "7adcad56-02ec-4f5f-8e77-2b93fc445121",
   "metadata": {},
   "outputs": [
    {
     "name": "stdout",
     "output_type": "stream",
     "text": [
      "[6.0, 3.5]\n"
     ]
    }
   ],
   "source": [
    "print(e)"
   ]
  },
  {
   "cell_type": "code",
   "execution_count": 31,
   "id": "33431ec3-2286-46c7-a36e-4e687d387915",
   "metadata": {},
   "outputs": [
    {
     "data": {
      "text/plain": [
       "5.0"
      ]
     },
     "execution_count": 31,
     "metadata": {},
     "output_type": "execute_result"
    }
   ],
   "source": [
    "(9+1)/2"
   ]
  },
  {
   "cell_type": "code",
   "execution_count": 47,
   "id": "b15849e8-861c-45de-9762-c1bcc1c2aee9",
   "metadata": {},
   "outputs": [
    {
     "name": "stdout",
     "output_type": "stream",
     "text": [
      "0\n",
      "1\n"
     ]
    }
   ],
   "source": [
    "for i in range(2):\n",
    "    print(i)"
   ]
  },
  {
   "cell_type": "code",
   "execution_count": 99,
   "id": "9e39d5ec-948c-46d5-bf59-b8a21ed7b6d8",
   "metadata": {},
   "outputs": [],
   "source": [
    "def minimumSize(nums, maxOperations):\n",
    "    st=sorted(nums)\n",
    "        # i=st[-1]\n",
    "    for i in range(maxOperations):\n",
    "        st=sorted(st)\n",
    "        last=st[-1]\n",
    "        if last %2 ==0:\n",
    "            new=[last/2,last/2]\n",
    "        else:\n",
    "            new=[(last+1)/2,(last-1)/2]\n",
    "        st=st[:-1]+new\n",
    "    return max(st)"
   ]
  },
  {
   "cell_type": "code",
   "execution_count": 101,
   "id": "98febd56-c928-4f35-ae99-f954ab35dacb",
   "metadata": {},
   "outputs": [
    {
     "ename": "TypeError",
     "evalue": "'int' object is not callable",
     "output_type": "error",
     "traceback": [
      "\u001b[1;31m---------------------------------------------------------------------------\u001b[0m",
      "\u001b[1;31mTypeError\u001b[0m                                 Traceback (most recent call last)",
      "Cell \u001b[1;32mIn[101], line 3\u001b[0m\n\u001b[0;32m      1\u001b[0m \u001b[38;5;28mlist\u001b[39m\u001b[38;5;241m=\u001b[39m[\u001b[38;5;241m431\u001b[39m,\u001b[38;5;241m922\u001b[39m,\u001b[38;5;241m158\u001b[39m,\u001b[38;5;241m60\u001b[39m,\u001b[38;5;241m192\u001b[39m,\u001b[38;5;241m14\u001b[39m,\u001b[38;5;241m788\u001b[39m,\u001b[38;5;241m146\u001b[39m,\u001b[38;5;241m788\u001b[39m,\u001b[38;5;241m775\u001b[39m,\u001b[38;5;241m772\u001b[39m,\u001b[38;5;241m792\u001b[39m,\u001b[38;5;241m68\u001b[39m,\u001b[38;5;241m143\u001b[39m,\u001b[38;5;241m376\u001b[39m,\u001b[38;5;241m375\u001b[39m,\u001b[38;5;241m877\u001b[39m,\u001b[38;5;241m516\u001b[39m,\u001b[38;5;241m595\u001b[39m,\u001b[38;5;241m82\u001b[39m,\u001b[38;5;241m56\u001b[39m,\u001b[38;5;241m704\u001b[39m,\u001b[38;5;241m160\u001b[39m,\u001b[38;5;241m403\u001b[39m,\u001b[38;5;241m713\u001b[39m,\u001b[38;5;241m504\u001b[39m,\u001b[38;5;241m67\u001b[39m,\u001b[38;5;241m332\u001b[39m,\u001b[38;5;241m26\u001b[39m]\n\u001b[0;32m      2\u001b[0m \u001b[38;5;28mmax\u001b[39m\u001b[38;5;241m=\u001b[39m\u001b[38;5;241m4\u001b[39m\n\u001b[1;32m----> 3\u001b[0m \u001b[38;5;28mprint\u001b[39m(minimumSize(\u001b[38;5;28mlist\u001b[39m,\u001b[38;5;28mmax\u001b[39m))\n",
      "Cell \u001b[1;32mIn[99], line 12\u001b[0m, in \u001b[0;36mminimumSize\u001b[1;34m(nums, maxOperations)\u001b[0m\n\u001b[0;32m     10\u001b[0m         new\u001b[38;5;241m=\u001b[39m[(last\u001b[38;5;241m+\u001b[39m\u001b[38;5;241m1\u001b[39m)\u001b[38;5;241m/\u001b[39m\u001b[38;5;241m2\u001b[39m,(last\u001b[38;5;241m-\u001b[39m\u001b[38;5;241m1\u001b[39m)\u001b[38;5;241m/\u001b[39m\u001b[38;5;241m2\u001b[39m]\n\u001b[0;32m     11\u001b[0m     st\u001b[38;5;241m=\u001b[39mst[:\u001b[38;5;241m-\u001b[39m\u001b[38;5;241m1\u001b[39m]\u001b[38;5;241m+\u001b[39mnew\n\u001b[1;32m---> 12\u001b[0m \u001b[38;5;28;01mreturn\u001b[39;00m \u001b[38;5;28mmax\u001b[39m(st)\n",
      "\u001b[1;31mTypeError\u001b[0m: 'int' object is not callable"
     ]
    }
   ],
   "source": [
    "list=[431,922,158,60,192,14,788,146,788,775,772,792,68,143,376,375,877,516,595,82,56,704,160,403,713,504,67,332,26]\n",
    "max=4\n",
    "print(minimumSize(list,max))\n",
    "# print(res)"
   ]
  },
  {
   "cell_type": "code",
   "execution_count": 113,
   "id": "96849546-cd9f-4791-aa78-ec131fd89e91",
   "metadata": {},
   "outputs": [],
   "source": [
    "def minimumSize(nums, maxOperations):\n",
    "        # Helper function to determine if a penalty is feasible\n",
    "        def canAchievePenalty(penalty):\n",
    "            operations = 0\n",
    "            for balls in nums:\n",
    "                # Count how many splits are required to make balls <= penalty\n",
    "                if balls > penalty:\n",
    "                    operations += (balls - 1) // penalty\n",
    "            return operations <= maxOperations\n",
    "        \n",
    "        # Binary search for the minimum penalty\n",
    "        left, right = 1, max(nums)  # Penalty can range from 1 to max(nums)\n",
    "        while left < right:\n",
    "            mid = (left + right) // 2\n",
    "            if canAchievePenalty(mid):\n",
    "                right = mid  # Try for a smaller penalty\n",
    "            else:\n",
    "                left = mid + 1  # Increase the penalty\n",
    "        return left"
   ]
  },
  {
   "cell_type": "code",
   "execution_count": 115,
   "id": "82c1451e-3cf0-4699-ae97-02bdd4e6f554",
   "metadata": {},
   "outputs": [
    {
     "ename": "TypeError",
     "evalue": "'int' object is not callable",
     "output_type": "error",
     "traceback": [
      "\u001b[1;31m---------------------------------------------------------------------------\u001b[0m",
      "\u001b[1;31mTypeError\u001b[0m                                 Traceback (most recent call last)",
      "Cell \u001b[1;32mIn[115], line 3\u001b[0m\n\u001b[0;32m      1\u001b[0m \u001b[38;5;28mlist\u001b[39m\u001b[38;5;241m=\u001b[39m[\u001b[38;5;241m431\u001b[39m,\u001b[38;5;241m922\u001b[39m,\u001b[38;5;241m158\u001b[39m,\u001b[38;5;241m60\u001b[39m,\u001b[38;5;241m192\u001b[39m,\u001b[38;5;241m14\u001b[39m,\u001b[38;5;241m788\u001b[39m,\u001b[38;5;241m146\u001b[39m,\u001b[38;5;241m788\u001b[39m,\u001b[38;5;241m775\u001b[39m,\u001b[38;5;241m772\u001b[39m,\u001b[38;5;241m792\u001b[39m,\u001b[38;5;241m68\u001b[39m,\u001b[38;5;241m143\u001b[39m,\u001b[38;5;241m376\u001b[39m,\u001b[38;5;241m375\u001b[39m,\u001b[38;5;241m877\u001b[39m,\u001b[38;5;241m516\u001b[39m,\u001b[38;5;241m595\u001b[39m,\u001b[38;5;241m82\u001b[39m,\u001b[38;5;241m56\u001b[39m,\u001b[38;5;241m704\u001b[39m,\u001b[38;5;241m160\u001b[39m,\u001b[38;5;241m403\u001b[39m,\u001b[38;5;241m713\u001b[39m,\u001b[38;5;241m504\u001b[39m,\u001b[38;5;241m67\u001b[39m,\u001b[38;5;241m332\u001b[39m,\u001b[38;5;241m26\u001b[39m]\n\u001b[0;32m      2\u001b[0m \u001b[38;5;28mmax\u001b[39m\u001b[38;5;241m=\u001b[39m\u001b[38;5;241m80\u001b[39m\n\u001b[1;32m----> 3\u001b[0m \u001b[38;5;28mprint\u001b[39m(minimumSize(\u001b[38;5;28mlist\u001b[39m,\u001b[38;5;28mmax\u001b[39m))\n",
      "Cell \u001b[1;32mIn[113], line 12\u001b[0m, in \u001b[0;36mminimumSize\u001b[1;34m(nums, maxOperations)\u001b[0m\n\u001b[0;32m      9\u001b[0m     \u001b[38;5;28;01mreturn\u001b[39;00m operations \u001b[38;5;241m<\u001b[39m\u001b[38;5;241m=\u001b[39m maxOperations\n\u001b[0;32m     11\u001b[0m \u001b[38;5;66;03m# Binary search for the minimum penalty\u001b[39;00m\n\u001b[1;32m---> 12\u001b[0m left, right \u001b[38;5;241m=\u001b[39m \u001b[38;5;241m1\u001b[39m, \u001b[38;5;28mmax\u001b[39m(nums)  \u001b[38;5;66;03m# Penalty can range from 1 to max(nums)\u001b[39;00m\n\u001b[0;32m     13\u001b[0m \u001b[38;5;28;01mwhile\u001b[39;00m left \u001b[38;5;241m<\u001b[39m right:\n\u001b[0;32m     14\u001b[0m     mid \u001b[38;5;241m=\u001b[39m (left \u001b[38;5;241m+\u001b[39m right) \u001b[38;5;241m/\u001b[39m\u001b[38;5;241m/\u001b[39m \u001b[38;5;241m2\u001b[39m\n",
      "\u001b[1;31mTypeError\u001b[0m: 'int' object is not callable"
     ]
    }
   ],
   "source": [
    "list=[431,922,158,60,192,14,788,146,788,775,772,792,68,143,376,375,877,516,595,82,56,704,160,403,713,504,67,332,26]\n",
    "max=80\n",
    "print(minimumSize(list,max))"
   ]
  }
 ],
 "metadata": {
  "kernelspec": {
   "display_name": "Python 3 (ipykernel)",
   "language": "python",
   "name": "python3"
  },
  "language_info": {
   "codemirror_mode": {
    "name": "ipython",
    "version": 3
   },
   "file_extension": ".py",
   "mimetype": "text/x-python",
   "name": "python",
   "nbconvert_exporter": "python",
   "pygments_lexer": "ipython3",
   "version": "3.11.7"
  }
 },
 "nbformat": 4,
 "nbformat_minor": 5
}
